{
  "nbformat": 4,
  "nbformat_minor": 0,
  "metadata": {
    "colab": {
      "provenance": [],
      "authorship_tag": "ABX9TyM1zZJFFRn0/R0Ppik6id7p",
      "include_colab_link": true
    },
    "kernelspec": {
      "name": "python3",
      "display_name": "Python 3"
    },
    "language_info": {
      "name": "python"
    }
  },
  "cells": [
    {
      "cell_type": "markdown",
      "metadata": {
        "id": "view-in-github",
        "colab_type": "text"
      },
      "source": [
        "<a href=\"https://colab.research.google.com/github/Muneswar9966/LAB-EXPS/blob/main/CNN_9.ipynb\" target=\"_parent\"><img src=\"https://colab.research.google.com/assets/colab-badge.svg\" alt=\"Open In Colab\"/></a>"
      ]
    },
    {
      "cell_type": "code",
      "execution_count": 1,
      "metadata": {
        "colab": {
          "base_uri": "https://localhost:8080/"
        },
        "id": "ga4TBl3gJfDd",
        "outputId": "f5eb255c-2e64-4748-f107-41e7909cde1f"
      },
      "outputs": [
        {
          "output_type": "stream",
          "name": "stdout",
          "text": [
            "Downloading data from https://storage.googleapis.com/tensorflow/tf-keras-datasets/mnist.npz\n",
            "11490434/11490434 [==============================] - 0s 0us/step\n",
            "Epoch 1/10\n",
            "300/300 - 48s - loss: 0.3631 - accuracy: 0.8901 - val_loss: 0.0775 - val_accuracy: 0.9757 - 48s/epoch - 160ms/step\n",
            "Epoch 2/10\n",
            "300/300 - 44s - loss: 0.1118 - accuracy: 0.9668 - val_loss: 0.0565 - val_accuracy: 0.9810 - 44s/epoch - 148ms/step\n",
            "Epoch 3/10\n",
            "300/300 - 44s - loss: 0.0835 - accuracy: 0.9756 - val_loss: 0.0388 - val_accuracy: 0.9878 - 44s/epoch - 147ms/step\n",
            "Epoch 4/10\n",
            "300/300 - 45s - loss: 0.0672 - accuracy: 0.9801 - val_loss: 0.0338 - val_accuracy: 0.9888 - 45s/epoch - 149ms/step\n",
            "Epoch 5/10\n",
            "300/300 - 45s - loss: 0.0584 - accuracy: 0.9825 - val_loss: 0.0305 - val_accuracy: 0.9896 - 45s/epoch - 150ms/step\n",
            "Epoch 6/10\n",
            "300/300 - 44s - loss: 0.0499 - accuracy: 0.9851 - val_loss: 0.0307 - val_accuracy: 0.9891 - 44s/epoch - 148ms/step\n",
            "Epoch 7/10\n",
            "300/300 - 44s - loss: 0.0453 - accuracy: 0.9863 - val_loss: 0.0288 - val_accuracy: 0.9899 - 44s/epoch - 148ms/step\n",
            "Epoch 8/10\n",
            "300/300 - 44s - loss: 0.0413 - accuracy: 0.9879 - val_loss: 0.0310 - val_accuracy: 0.9895 - 44s/epoch - 148ms/step\n",
            "Epoch 9/10\n",
            "300/300 - 44s - loss: 0.0369 - accuracy: 0.9887 - val_loss: 0.0274 - val_accuracy: 0.9906 - 44s/epoch - 147ms/step\n",
            "Epoch 10/10\n",
            "300/300 - 43s - loss: 0.0331 - accuracy: 0.9894 - val_loss: 0.0255 - val_accuracy: 0.9912 - 43s/epoch - 145ms/step\n",
            "Test accuracy: 99.12%\n"
          ]
        }
      ],
      "source": [
        "import tensorflow as tf\n",
        "from tensorflow.keras.datasets import mnist\n",
        "from tensorflow.keras.models import Sequential\n",
        "from tensorflow.keras.layers import Conv2D, MaxPooling2D, Flatten, Dense, Dropout\n",
        "from tensorflow.keras.utils import to_categorical\n",
        "# Load and preprocess the dataset\n",
        "(x_train, y_train), (x_test, y_test) = mnist.load_data()\n",
        "x_train = x_train.reshape(x_train.shape[0], 28, 28, 1).astype('float32') / 255\n",
        "x_test = x_test.reshape(x_test.shape[0], 28, 28, 1).astype('float32') / 255\n",
        "y_train = to_categorical(y_train, 10)\n",
        "y_test = to_categorical(y_test, 10)\n",
        "# Build the CNN model\n",
        "model = Sequential()\n",
        "model.add(Conv2D(32, kernel_size=(3, 3), activation='relu',\n",
        "input_shape=(28, 28, 1)))\n",
        "model.add(MaxPooling2D(pool_size=(2, 2)))\n",
        "model.add(Conv2D(64, kernel_size=(3, 3), activation='relu'))\n",
        "model.add(MaxPooling2D(pool_size=(2, 2)))\n",
        "model.add(Flatten())\n",
        "model.add(Dense(128, activation='relu'))\n",
        "model.add(Dropout(0.5))\n",
        "model.add(Dense(10, activation='softmax'))\n",
        "# Compile the model\n",
        "model.compile(loss='categorical_crossentropy', optimizer='adam',\n",
        "metrics=['accuracy'])\n",
        "# Train the model\n",
        "model.fit(x_train, y_train, validation_data=(x_test, y_test), epochs=10,\n",
        "batch_size=200, verbose=2)\n",
        "# Evaluate the model\n",
        "test_loss, test_acc = model.evaluate(x_test, y_test, verbose=0)\n",
        "print(f'Test accuracy: {test_acc*100:.2f}%')\n"
      ]
    }
  ]
}