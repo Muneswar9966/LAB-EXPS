{
  "nbformat": 4,
  "nbformat_minor": 0,
  "metadata": {
    "colab": {
      "provenance": [],
      "authorship_tag": "ABX9TyMxl1UvDgBNTHenVW6hO0Bs",
      "include_colab_link": true
    },
    "kernelspec": {
      "name": "python3",
      "display_name": "Python 3"
    },
    "language_info": {
      "name": "python"
    }
  },
  "cells": [
    {
      "cell_type": "markdown",
      "metadata": {
        "id": "view-in-github",
        "colab_type": "text"
      },
      "source": [
        "<a href=\"https://colab.research.google.com/github/Muneswar9966/LAB-EXPS/blob/main/EXP_3_BINARY_CLASSIFICATION.ipynb\" target=\"_parent\"><img src=\"https://colab.research.google.com/assets/colab-badge.svg\" alt=\"Open In Colab\"/></a>"
      ]
    },
    {
      "cell_type": "code",
      "execution_count": 1,
      "metadata": {
        "colab": {
          "base_uri": "https://localhost:8080/"
        },
        "id": "tLJXKKsGECds",
        "outputId": "9003016f-4279-40c2-81c8-1b5b7e7ae7d7"
      },
      "outputs": [
        {
          "output_type": "stream",
          "name": "stdout",
          "text": [
            "Epoch 1/10\n",
            "20/20 [==============================] - 3s 27ms/step - loss: 0.7169 - accuracy: 0.4109 - val_loss: 0.7020 - val_accuracy: 0.3438\n",
            "Epoch 2/10\n",
            "20/20 [==============================] - 0s 6ms/step - loss: 0.6900 - accuracy: 0.4984 - val_loss: 0.6712 - val_accuracy: 0.6313\n",
            "Epoch 3/10\n",
            "20/20 [==============================] - 0s 8ms/step - loss: 0.6702 - accuracy: 0.5391 - val_loss: 0.6458 - val_accuracy: 0.6250\n",
            "Epoch 4/10\n",
            "20/20 [==============================] - 0s 7ms/step - loss: 0.6505 - accuracy: 0.5906 - val_loss: 0.6247 - val_accuracy: 0.6687\n",
            "Epoch 5/10\n",
            "20/20 [==============================] - 0s 8ms/step - loss: 0.6309 - accuracy: 0.6625 - val_loss: 0.6044 - val_accuracy: 0.7125\n",
            "Epoch 6/10\n",
            "20/20 [==============================] - 0s 6ms/step - loss: 0.6098 - accuracy: 0.7109 - val_loss: 0.5827 - val_accuracy: 0.7312\n",
            "Epoch 7/10\n",
            "20/20 [==============================] - 0s 7ms/step - loss: 0.5875 - accuracy: 0.7437 - val_loss: 0.5603 - val_accuracy: 0.7750\n",
            "Epoch 8/10\n",
            "20/20 [==============================] - 0s 7ms/step - loss: 0.5635 - accuracy: 0.7859 - val_loss: 0.5375 - val_accuracy: 0.8125\n",
            "Epoch 9/10\n",
            "20/20 [==============================] - 0s 9ms/step - loss: 0.5386 - accuracy: 0.8188 - val_loss: 0.5146 - val_accuracy: 0.8813\n",
            "Epoch 10/10\n",
            "20/20 [==============================] - 0s 5ms/step - loss: 0.5122 - accuracy: 0.8391 - val_loss: 0.4877 - val_accuracy: 0.8875\n",
            "7/7 [==============================] - 0s 5ms/step\n",
            "Test accuracy: 0.8350\n"
          ]
        }
      ],
      "source": [
        "\n",
        "import numpy as np\n",
        "import tensorflow as tf\n",
        "from tensorflow.keras.models import Sequential\n",
        "from tensorflow.keras.layers import Dense,Input\n",
        "from sklearn.model_selection import train_test_split\n",
        "from sklearn.metrics import accuracy_score\n",
        "np.random.seed(42)\n",
        "X = np.random.rand(1000, 2)\n",
        "y = (X[:, 0] + X[:, 1] > 1).astype(int)\n",
        "X_train, X_test, y_train, y_test = train_test_split(X, y, test_size=0.2,\n",
        "random_state=42)\n",
        "model = Sequential([Input(shape=(2)),Dense(64, activation='relu'),Dense(1,\n",
        "activation='sigmoid')])\n",
        "model.compile(optimizer='adam',loss='binary_crossentropy',metrics=['accuracy'])\n",
        "model.fit(X_train, y_train, epochs=10, batch_size=32, validation_split=0.2)\n",
        "y_pred = model.predict(X_test)\n",
        "y_pred_binary = (y_pred > 0.5).astype(int)\n",
        "test_accuracy = accuracy_score(y_test, y_pred_binary)\n",
        "print(f\"Test accuracy: {test_accuracy:.4f}\")"
      ]
    }
  ]
}